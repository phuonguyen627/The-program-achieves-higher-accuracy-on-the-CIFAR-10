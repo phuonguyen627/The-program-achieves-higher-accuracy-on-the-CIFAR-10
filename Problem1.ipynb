{
  "nbformat": 4,
  "nbformat_minor": 0,
  "metadata": {
    "colab": {
      "name": "bai1_change_model_vgg16.ipynb",
      "provenance": []
    },
    "kernelspec": {
      "name": "python3",
      "display_name": "Python 3"
    },
    "language_info": {
      "name": "python"
    },
    "accelerator": "GPU",
    "widgets": {
      "application/vnd.jupyter.widget-state+json": {
        "42571420412a435ea7a5d38e0455f8e1": {
          "model_module": "@jupyter-widgets/controls",
          "model_name": "HBoxModel",
          "state": {
            "_view_name": "HBoxView",
            "_dom_classes": [],
            "_model_name": "HBoxModel",
            "_view_module": "@jupyter-widgets/controls",
            "_model_module_version": "1.5.0",
            "_view_count": null,
            "_view_module_version": "1.5.0",
            "box_style": "",
            "layout": "IPY_MODEL_ebfbfe9fa04043d2a65cee0c985635f6",
            "_model_module": "@jupyter-widgets/controls",
            "children": [
              "IPY_MODEL_c037111fda22452e88a8845b20de3505",
              "IPY_MODEL_cc945c0556a543de980b62d071294ae9"
            ]
          }
        },
        "ebfbfe9fa04043d2a65cee0c985635f6": {
          "model_module": "@jupyter-widgets/base",
          "model_name": "LayoutModel",
          "state": {
            "_view_name": "LayoutView",
            "grid_template_rows": null,
            "right": null,
            "justify_content": null,
            "_view_module": "@jupyter-widgets/base",
            "overflow": null,
            "_model_module_version": "1.2.0",
            "_view_count": null,
            "flex_flow": null,
            "width": null,
            "min_width": null,
            "border": null,
            "align_items": null,
            "bottom": null,
            "_model_module": "@jupyter-widgets/base",
            "top": null,
            "grid_column": null,
            "overflow_y": null,
            "overflow_x": null,
            "grid_auto_flow": null,
            "grid_area": null,
            "grid_template_columns": null,
            "flex": null,
            "_model_name": "LayoutModel",
            "justify_items": null,
            "grid_row": null,
            "max_height": null,
            "align_content": null,
            "visibility": null,
            "align_self": null,
            "height": null,
            "min_height": null,
            "padding": null,
            "grid_auto_rows": null,
            "grid_gap": null,
            "max_width": null,
            "order": null,
            "_view_module_version": "1.2.0",
            "grid_template_areas": null,
            "object_position": null,
            "object_fit": null,
            "grid_auto_columns": null,
            "margin": null,
            "display": null,
            "left": null
          }
        },
        "c037111fda22452e88a8845b20de3505": {
          "model_module": "@jupyter-widgets/controls",
          "model_name": "FloatProgressModel",
          "state": {
            "_view_name": "ProgressView",
            "style": "IPY_MODEL_efe26b0fdf8e41dcb42488fd272a2302",
            "_dom_classes": [],
            "description": "",
            "_model_name": "FloatProgressModel",
            "bar_style": "success",
            "max": 170498071,
            "_view_module": "@jupyter-widgets/controls",
            "_model_module_version": "1.5.0",
            "value": 170498071,
            "_view_count": null,
            "_view_module_version": "1.5.0",
            "orientation": "horizontal",
            "min": 0,
            "description_tooltip": null,
            "_model_module": "@jupyter-widgets/controls",
            "layout": "IPY_MODEL_28a8d6ac665e46eea1e7b55db951a06c"
          }
        },
        "cc945c0556a543de980b62d071294ae9": {
          "model_module": "@jupyter-widgets/controls",
          "model_name": "HTMLModel",
          "state": {
            "_view_name": "HTMLView",
            "style": "IPY_MODEL_91c68693fa2c4423800df532017278a0",
            "_dom_classes": [],
            "description": "",
            "_model_name": "HTMLModel",
            "placeholder": "​",
            "_view_module": "@jupyter-widgets/controls",
            "_model_module_version": "1.5.0",
            "value": " 170499072/? [00:04&lt;00:00, 37676507.42it/s]",
            "_view_count": null,
            "_view_module_version": "1.5.0",
            "description_tooltip": null,
            "_model_module": "@jupyter-widgets/controls",
            "layout": "IPY_MODEL_d92140d01e0b4805b084fbba469ab927"
          }
        },
        "efe26b0fdf8e41dcb42488fd272a2302": {
          "model_module": "@jupyter-widgets/controls",
          "model_name": "ProgressStyleModel",
          "state": {
            "_view_name": "StyleView",
            "_model_name": "ProgressStyleModel",
            "description_width": "initial",
            "_view_module": "@jupyter-widgets/base",
            "_model_module_version": "1.5.0",
            "_view_count": null,
            "_view_module_version": "1.2.0",
            "bar_color": null,
            "_model_module": "@jupyter-widgets/controls"
          }
        },
        "28a8d6ac665e46eea1e7b55db951a06c": {
          "model_module": "@jupyter-widgets/base",
          "model_name": "LayoutModel",
          "state": {
            "_view_name": "LayoutView",
            "grid_template_rows": null,
            "right": null,
            "justify_content": null,
            "_view_module": "@jupyter-widgets/base",
            "overflow": null,
            "_model_module_version": "1.2.0",
            "_view_count": null,
            "flex_flow": null,
            "width": null,
            "min_width": null,
            "border": null,
            "align_items": null,
            "bottom": null,
            "_model_module": "@jupyter-widgets/base",
            "top": null,
            "grid_column": null,
            "overflow_y": null,
            "overflow_x": null,
            "grid_auto_flow": null,
            "grid_area": null,
            "grid_template_columns": null,
            "flex": null,
            "_model_name": "LayoutModel",
            "justify_items": null,
            "grid_row": null,
            "max_height": null,
            "align_content": null,
            "visibility": null,
            "align_self": null,
            "height": null,
            "min_height": null,
            "padding": null,
            "grid_auto_rows": null,
            "grid_gap": null,
            "max_width": null,
            "order": null,
            "_view_module_version": "1.2.0",
            "grid_template_areas": null,
            "object_position": null,
            "object_fit": null,
            "grid_auto_columns": null,
            "margin": null,
            "display": null,
            "left": null
          }
        },
        "91c68693fa2c4423800df532017278a0": {
          "model_module": "@jupyter-widgets/controls",
          "model_name": "DescriptionStyleModel",
          "state": {
            "_view_name": "StyleView",
            "_model_name": "DescriptionStyleModel",
            "description_width": "",
            "_view_module": "@jupyter-widgets/base",
            "_model_module_version": "1.5.0",
            "_view_count": null,
            "_view_module_version": "1.2.0",
            "_model_module": "@jupyter-widgets/controls"
          }
        },
        "d92140d01e0b4805b084fbba469ab927": {
          "model_module": "@jupyter-widgets/base",
          "model_name": "LayoutModel",
          "state": {
            "_view_name": "LayoutView",
            "grid_template_rows": null,
            "right": null,
            "justify_content": null,
            "_view_module": "@jupyter-widgets/base",
            "overflow": null,
            "_model_module_version": "1.2.0",
            "_view_count": null,
            "flex_flow": null,
            "width": null,
            "min_width": null,
            "border": null,
            "align_items": null,
            "bottom": null,
            "_model_module": "@jupyter-widgets/base",
            "top": null,
            "grid_column": null,
            "overflow_y": null,
            "overflow_x": null,
            "grid_auto_flow": null,
            "grid_area": null,
            "grid_template_columns": null,
            "flex": null,
            "_model_name": "LayoutModel",
            "justify_items": null,
            "grid_row": null,
            "max_height": null,
            "align_content": null,
            "visibility": null,
            "align_self": null,
            "height": null,
            "min_height": null,
            "padding": null,
            "grid_auto_rows": null,
            "grid_gap": null,
            "max_width": null,
            "order": null,
            "_view_module_version": "1.2.0",
            "grid_template_areas": null,
            "object_position": null,
            "object_fit": null,
            "grid_auto_columns": null,
            "margin": null,
            "display": null,
            "left": null
          }
        }
      }
    }
  },
  "cells": [
    {
      "cell_type": "code",
      "metadata": {
        "id": "FR7Scicvb8KQ"
      },
      "source": [
        "import torchvision as tv\n",
        "import numpy as np\n",
        "import torch\n",
        "import torch.nn.functional as F"
      ],
      "execution_count": 1,
      "outputs": []
    },
    {
      "cell_type": "code",
      "metadata": {
        "id": "NBbzHYyXb-aU"
      },
      "source": [
        "transform_train = tv.transforms.Compose(\n",
        "    [tv.transforms.ToTensor(),\n",
        "    tv.transforms.RandomHorizontalFlip(),    \n",
        "    tv.transforms.Normalize((0.5, 0.5, 0.5), (0.5, 0.5, 0.5))])\n",
        "transform_test = tv.transforms.Compose(\n",
        "    [tv.transforms.ToTensor(),\n",
        "    tv.transforms.Normalize((0.5, 0.5, 0.5), (0.5, 0.5, 0.5))])"
      ],
      "execution_count": 2,
      "outputs": []
    },
    {
      "cell_type": "code",
      "metadata": {
        "colab": {
          "base_uri": "https://localhost:8080/",
          "height": 117,
          "referenced_widgets": [
            "42571420412a435ea7a5d38e0455f8e1",
            "ebfbfe9fa04043d2a65cee0c985635f6",
            "c037111fda22452e88a8845b20de3505",
            "cc945c0556a543de980b62d071294ae9",
            "efe26b0fdf8e41dcb42488fd272a2302",
            "28a8d6ac665e46eea1e7b55db951a06c",
            "91c68693fa2c4423800df532017278a0",
            "d92140d01e0b4805b084fbba469ab927"
          ]
        },
        "id": "Ot3KUvAbcC-V",
        "outputId": "91078832-2404-495a-d2c5-2b4d72607acc"
      },
      "source": [
        "train_dataset = tv.datasets.CIFAR10(root=\"./\", train=True,transform=transform_train,download=True)\n",
        "test_dataset = tv.datasets.CIFAR10(root=\"./\", train=False,transform=transform_test,download=True)\n",
        "train_loader=torch.utils.data.DataLoader(dataset=train_dataset, batch_size=100, shuffle=True)\n",
        "test_loader=torch.utils.data.DataLoader(dataset=test_dataset, batch_size=100,shuffle=False)"
      ],
      "execution_count": 3,
      "outputs": [
        {
          "output_type": "stream",
          "text": [
            "Downloading https://www.cs.toronto.edu/~kriz/cifar-10-python.tar.gz to ./cifar-10-python.tar.gz\n"
          ],
          "name": "stdout"
        },
        {
          "output_type": "display_data",
          "data": {
            "application/vnd.jupyter.widget-view+json": {
              "model_id": "42571420412a435ea7a5d38e0455f8e1",
              "version_minor": 0,
              "version_major": 2
            },
            "text/plain": [
              "HBox(children=(FloatProgress(value=0.0, max=170498071.0), HTML(value='')))"
            ]
          },
          "metadata": {
            "tags": []
          }
        },
        {
          "output_type": "stream",
          "text": [
            "\n",
            "Extracting ./cifar-10-python.tar.gz to ./\n",
            "Files already downloaded and verified\n"
          ],
          "name": "stdout"
        }
      ]
    },
    {
      "cell_type": "code",
      "metadata": {
        "id": "oYcBxorwcFEc"
      },
      "source": [
        "MODELNAME=\"cifar_conv.model\"\n",
        "EPOCH = 20\n",
        "DEVICE=\"cuda\" if torch.cuda.is_available() else \"cpu\""
      ],
      "execution_count": 4,
      "outputs": []
    },
    {
      "cell_type": "code",
      "metadata": {
        "id": "6i7ExatFCxoU"
      },
      "source": [
        "class CIFAR_CONV(torch.nn.Module):\n",
        "  def __init__(self):\n",
        "    super(CIFAR_CONV,self).__init__()\n",
        "\n",
        "    # conv1 1/2\n",
        "    self.conv1_1 = torch.nn.Conv2d(3, 64, kernel_size=3, padding=1)\n",
        "    self.batchnorm2d1_1 = torch.nn.BatchNorm2d(64)\n",
        "    self.relu1_1 = torch.nn.ReLU(inplace=True)\n",
        "    self.conv1_2 = torch.nn.Conv2d(64, 64, kernel_size=3, padding=1)\n",
        "    self.batchnorm2d1_2 = torch.nn.BatchNorm2d(64)\n",
        "    self.relu1_2 = torch.nn.ReLU(inplace=True)\n",
        "    self.pool1 = torch.nn.MaxPool2d(kernel_size=2, stride=2)\n",
        "\n",
        "    # conv2 1/4\n",
        "    self.conv2_1 = torch.nn.Conv2d(64, 128, kernel_size=3, padding=1)\n",
        "    self.batchnorm2d2_1 = torch.nn.BatchNorm2d(128)\n",
        "    self.relu2_1 = torch.nn.ReLU(inplace=True)\n",
        "    self.conv2_2 = torch.nn.Conv2d(128, 128, kernel_size=3, padding=1)\n",
        "    self.batchnorm2d2_2 = torch.nn.BatchNorm2d(128)\n",
        "    self.relu2_2 = torch.nn.ReLU(inplace=True)\n",
        "    self.pool2 = torch.nn.MaxPool2d(kernel_size=2, stride=2)\n",
        "\n",
        "    # conv3 1/8\n",
        "    self.conv3_1 = torch.nn.Conv2d(128, 256, kernel_size=3, padding=1)\n",
        "    self.batchnorm2d3_1 = torch.nn.BatchNorm2d(256)\n",
        "    self.relu3_1 = torch.nn.ReLU(inplace=True)\n",
        "    self.conv3_2 = torch.nn.Conv2d(256, 256, kernel_size=3, padding=1)\n",
        "    self.batchnorm2d3_2 = torch.nn.BatchNorm2d(256)\n",
        "    self.relu3_2 = torch.nn.ReLU(inplace=True)\n",
        "    self.conv3_3 = torch.nn.Conv2d(256, 256, kernel_size=3, padding=1)\n",
        "    self.batchnorm2d3_3 = torch.nn.BatchNorm2d(256)\n",
        "    self.relu3_3 = torch.nn.ReLU(inplace=True)\n",
        "    self.pool3 = torch.nn.MaxPool2d(kernel_size=2, stride=2)\n",
        "\n",
        "    # conv4 1/16\n",
        "    self.conv4_1 = torch.nn.Conv2d(256, 512, kernel_size=3, padding=1)\n",
        "    self.batchnorm2d4_1 = torch.nn.BatchNorm2d(512)\n",
        "    self.relu4_1 = torch.nn.ReLU(inplace=True)\n",
        "    self.conv4_2 = torch.nn.Conv2d(512, 512, kernel_size=3, padding=1)\n",
        "    self.batchnorm2d4_2 = torch.nn.BatchNorm2d(512)\n",
        "    self.relu4_2 = torch.nn.ReLU(inplace=True)\n",
        "    self.conv4_3 = torch.nn.Conv2d(512, 512, kernel_size=3, padding=1)\n",
        "    self.batchnorm2d4_3 = torch.nn.BatchNorm2d(512)\n",
        "    self.relu4_3 = torch.nn.ReLU(inplace=True)\n",
        "    self.pool4 = torch.nn.MaxPool2d(kernel_size=2, stride=2)\n",
        "\n",
        "    # conv5 1/32\n",
        "    self.conv5_1 = torch.nn.Conv2d(512, 512, kernel_size=3, padding=1)\n",
        "    self.batchnorm2d5_1 = torch.nn.BatchNorm2d(512)\n",
        "    self.relu5_1 = torch.nn.ReLU(inplace=True)\n",
        "    self.conv5_2 = torch.nn.Conv2d(512, 512, kernel_size=3, padding=1)\n",
        "    self.batchnorm2d5_2 = torch.nn.BatchNorm2d(512)\n",
        "    self.relu5_2 = torch.nn.ReLU(inplace=True)\n",
        "    self.conv5_3 = torch.nn.Conv2d(512, 512, kernel_size=3, padding=1)\n",
        "    self.batchnorm2d5_3 = torch.nn.BatchNorm2d(512)\n",
        "    self.relu5_3 = torch.nn.ReLU(inplace=True)\n",
        "    self.pool5 = torch.nn.MaxPool2d(kernel_size=2, stride=2)\n",
        "\n",
        "    self.fc1 = torch.nn.Linear(in_features=512 * 1 * 1, out_features=256)\n",
        "    self.batchnorm1d_fc1 = torch.nn.BatchNorm1d(256)\n",
        "    self.relu_fc1 = torch.nn.ReLU(inplace=True)\n",
        "    self.dropout_fc1 = torch.nn.Dropout(0.5)\n",
        "    self.fc2 = torch.nn.Linear(in_features=256, out_features=80)\n",
        "    self.batchnorm1d_fc2 = torch.nn.BatchNorm1d(80)\n",
        "    self.relu_fc2 = torch.nn.ReLU(inplace=True)\n",
        "    self.dropout_fc2 = torch.nn.Dropout(0.5)\n",
        "    self.fc3 = torch.nn.Linear(in_features=80, out_features=10)\n",
        "\n",
        "  def forward(self, x):  \n",
        "      x = self.relu1_1(self.batchnorm2d1_1(self.conv1_1(x)))\n",
        "      x = self.relu1_2(self.batchnorm2d1_2(self.conv1_2(x)))  \n",
        "      x = self.pool1(x) \n",
        "\n",
        "      x = self.relu2_1(self.batchnorm2d2_1(self.conv2_1(x)))\n",
        "      x = self.relu2_2(self.batchnorm2d2_2(self.conv2_2(x)))\n",
        "      x = self.pool2(x)\n",
        "\n",
        "      x = self.relu3_1(self.batchnorm2d3_1(self.conv3_1(x)))\n",
        "      x = self.relu3_2(self.batchnorm2d3_2(self.conv3_2(x)))\n",
        "      x = self.relu3_3(self.batchnorm2d3_3(self.conv3_3(x)))\n",
        "      x = self.pool3(x)\n",
        "\n",
        "      x = self.relu4_1(self.batchnorm2d4_1(self.conv4_1(x)))\n",
        "      x = self.relu4_2(self.batchnorm2d4_2(self.conv4_2(x)))\n",
        "      x = self.relu4_3(self.batchnorm2d4_3(self.conv4_3(x)))\n",
        "      x = self.pool4(x)\n",
        "\n",
        "      x = self.relu5_1(self.batchnorm2d5_1(self.conv5_1(x)))\n",
        "      x = self.relu5_2(self.batchnorm2d5_2(self.conv5_2(x)))\n",
        "      x = self.relu5_3(self.batchnorm2d5_2(self.conv5_3(x)))\n",
        "      x = self.pool5(x)\n",
        "\n",
        "      x = x.view(x.size(0), -1)\n",
        "      x = self.dropout_fc1(self.relu_fc1(self.batchnorm1d_fc1(self.fc1(x))))\n",
        "      x = self.dropout_fc2(self.relu_fc2(self.batchnorm1d_fc2(self.fc2(x))))\n",
        "      x = self.fc3(x)\n",
        "\n",
        "      return x\n"
      ],
      "execution_count": 5,
      "outputs": []
    },
    {
      "cell_type": "code",
      "metadata": {
        "id": "p0Q-L9iNcOOG"
      },
      "source": [
        "def train():\n",
        "  model=CIFAR_CONV().to(DEVICE)\n",
        "  optimizer= torch.optim.Adam(model.parameters())\n",
        "  for epoch in range (EPOCH):\n",
        "    loss=0\n",
        "    for images, labels in train_loader:\n",
        "      images=images.view(-1, 3,32,32).to(DEVICE)\n",
        "      labels=labels.to(DEVICE)\n",
        "      optimizer.zero_grad()\n",
        "      y=model(images)\n",
        "      batchloss=F.cross_entropy(y, labels)\n",
        "      batchloss.backward()\n",
        "      optimizer.step()\n",
        "      loss=loss+batchloss.item()\n",
        "    print(\"epoch: {},loss:{}\".format(epoch,loss))\n",
        "    #scheduler.step()\n",
        "  torch.save(model.state_dict(),MODELNAME)\n"
      ],
      "execution_count": 6,
      "outputs": []
    },
    {
      "cell_type": "code",
      "metadata": {
        "id": "DaqoIGtTcQ3o"
      },
      "source": [
        "def test():\n",
        "  total=len(test_loader.dataset)\n",
        "  correct=0\n",
        "  model=CIFAR_CONV().to(DEVICE)\n",
        "  model.load_state_dict(torch.load(MODELNAME))\n",
        "  model.eval()\n",
        "\n",
        "  for images,labels in test_loader:\n",
        "    images=images.view(-1,3,32,32).to(DEVICE)\n",
        "    labels=labels.to(DEVICE)\n",
        "    y=model(images)\n",
        "    y_pred=y.max(dim=1)[1]\n",
        "    correct=correct+(y_pred==labels).sum()\n",
        "  print(\"correct:{}\".format(correct))\n",
        "  print(\"total: {}\".format(total))\n",
        "  print(\"accuracy:{}\".format(correct/total))\n",
        "\n"
      ],
      "execution_count": 7,
      "outputs": []
    },
    {
      "cell_type": "code",
      "metadata": {
        "colab": {
          "base_uri": "https://localhost:8080/"
        },
        "id": "FYbxVCyLb1tj",
        "outputId": "bc646207-de7e-4a29-feff-261f5e33af13"
      },
      "source": [
        "train()\n",
        "test()"
      ],
      "execution_count": 8,
      "outputs": [
        {
          "output_type": "stream",
          "text": [
            "/usr/local/lib/python3.7/dist-packages/torch/nn/functional.py:718: UserWarning: Named tensors and all their associated APIs are an experimental feature and subject to change. Please do not use them for anything important until they are released as stable. (Triggered internally at  /pytorch/c10/core/TensorImpl.h:1156.)\n",
            "  return torch.max_pool2d(input, kernel_size, stride, padding, dilation, ceil_mode)\n"
          ],
          "name": "stderr"
        },
        {
          "output_type": "stream",
          "text": [
            "epoch: 0,loss:894.7800167798996\n",
            "epoch: 1,loss:634.7507900595665\n",
            "epoch: 2,loss:490.73005175590515\n",
            "epoch: 3,loss:412.2823715209961\n",
            "epoch: 4,loss:358.8572393655777\n",
            "epoch: 5,loss:324.32452592253685\n",
            "epoch: 6,loss:285.6037500798702\n",
            "epoch: 7,loss:259.9010070413351\n",
            "epoch: 8,loss:237.98952400684357\n",
            "epoch: 9,loss:210.90393728017807\n",
            "epoch: 10,loss:197.6508514881134\n",
            "epoch: 11,loss:182.56094840168953\n",
            "epoch: 12,loss:163.75888554751873\n",
            "epoch: 13,loss:148.35144211351871\n",
            "epoch: 14,loss:135.77693709731102\n",
            "epoch: 15,loss:129.90488170087337\n",
            "epoch: 16,loss:119.36628090962768\n",
            "epoch: 17,loss:108.33292569220066\n",
            "epoch: 18,loss:99.87782793492079\n",
            "epoch: 19,loss:95.47039249911904\n",
            "correct:8712\n",
            "total: 10000\n",
            "accuracy:0.8711999654769897\n"
          ],
          "name": "stdout"
        }
      ]
    }
  ]
}